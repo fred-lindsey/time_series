{
 "cells": [
  {
   "cell_type": "code",
   "execution_count": 1,
   "metadata": {},
   "outputs": [],
   "source": [
    "import pandas as pd\n",
    "from datetime import timedelta, datetime\n",
    "import numpy as np\n",
    "import matplotlib.pyplot as plt\n",
    "\n",
    "import warnings\n",
    "warnings.filterwarnings(\"ignore\")\n",
    "import acquire\n",
    "from acquire import get_stores_df\n",
    "from acquire import get_combined_df"
   ]
  },
  {
   "cell_type": "code",
   "execution_count": null,
   "metadata": {},
   "outputs": [],
   "source": []
  },
  {
   "cell_type": "code",
   "execution_count": 2,
   "metadata": {},
   "outputs": [
    {
     "data": {
      "text/html": [
       "<div><div id=cd14a357-e288-45fe-b4e1-a002cca93b6b style=\"display:none; background-color:#9D6CFF; color:white; width:200px; height:30px; padding-left:5px; border-radius:4px; flex-direction:row; justify-content:space-around; align-items:center;\" onmouseover=\"this.style.backgroundColor='#BA9BF8'\" onmouseout=\"this.style.backgroundColor='#9D6CFF'\" onclick=\"window.commands?.execute('create-mitosheet-from-dataframe-output');\">See Full Dataframe in Mito</div> <script> if (window.commands?.hasCommand('create-mitosheet-from-dataframe-output')) document.getElementById('cd14a357-e288-45fe-b4e1-a002cca93b6b').style.display = 'flex' </script> <table border=\"1\" class=\"dataframe\">\n",
       "  <thead>\n",
       "    <tr style=\"text-align: right;\">\n",
       "      <th></th>\n",
       "      <th>item</th>\n",
       "      <th>sale_amount</th>\n",
       "      <th>sale_date</th>\n",
       "      <th>sale_id</th>\n",
       "      <th>store</th>\n",
       "    </tr>\n",
       "  </thead>\n",
       "  <tbody>\n",
       "    <tr>\n",
       "      <th>0</th>\n",
       "      <td>1</td>\n",
       "      <td>33.0</td>\n",
       "      <td>Sat, 10 Sep 2016 00:00:00 GMT</td>\n",
       "      <td>5001</td>\n",
       "      <td>3</td>\n",
       "    </tr>\n",
       "    <tr>\n",
       "      <th>1</th>\n",
       "      <td>1</td>\n",
       "      <td>27.0</td>\n",
       "      <td>Sun, 11 Sep 2016 00:00:00 GMT</td>\n",
       "      <td>5002</td>\n",
       "      <td>3</td>\n",
       "    </tr>\n",
       "    <tr>\n",
       "      <th>2</th>\n",
       "      <td>1</td>\n",
       "      <td>26.0</td>\n",
       "      <td>Mon, 12 Sep 2016 00:00:00 GMT</td>\n",
       "      <td>5003</td>\n",
       "      <td>3</td>\n",
       "    </tr>\n",
       "    <tr>\n",
       "      <th>3</th>\n",
       "      <td>1</td>\n",
       "      <td>22.0</td>\n",
       "      <td>Tue, 13 Sep 2016 00:00:00 GMT</td>\n",
       "      <td>5004</td>\n",
       "      <td>3</td>\n",
       "    </tr>\n",
       "    <tr>\n",
       "      <th>4</th>\n",
       "      <td>1</td>\n",
       "      <td>25.0</td>\n",
       "      <td>Wed, 14 Sep 2016 00:00:00 GMT</td>\n",
       "      <td>5005</td>\n",
       "      <td>3</td>\n",
       "    </tr>\n",
       "  </tbody>\n",
       "</table></div>"
      ],
      "text/plain": [
       "   item  sale_amount                      sale_date  sale_id  store\n",
       "0     1         33.0  Sat, 10 Sep 2016 00:00:00 GMT     5001      3\n",
       "1     1         27.0  Sun, 11 Sep 2016 00:00:00 GMT     5002      3\n",
       "2     1         26.0  Mon, 12 Sep 2016 00:00:00 GMT     5003      3\n",
       "3     1         22.0  Tue, 13 Sep 2016 00:00:00 GMT     5004      3\n",
       "4     1         25.0  Wed, 14 Sep 2016 00:00:00 GMT     5005      3"
      ]
     },
     "execution_count": 2,
     "metadata": {},
     "output_type": "execute_result"
    }
   ],
   "source": [
    "sales_df = acquire.get_sales_df()\n",
    "sales_df.head()"
   ]
  },
  {
   "cell_type": "code",
   "execution_count": 3,
   "metadata": {},
   "outputs": [
    {
     "data": {
      "text/plain": [
       "array([ 1,  2,  3,  4,  5,  6,  7,  8,  9, 10, 11, 12, 13, 14, 15, 16, 17,\n",
       "       18, 19, 20, 21, 22, 23, 24, 25, 26, 27, 28, 29, 30, 31, 32, 33, 34,\n",
       "       35, 36, 37, 38, 39, 40, 41, 42, 43, 44, 45, 46, 47, 48, 49, 50])"
      ]
     },
     "execution_count": 3,
     "metadata": {},
     "output_type": "execute_result"
    }
   ],
   "source": [
    "sales_df.item.unique()"
   ]
  },
  {
   "cell_type": "code",
   "execution_count": 4,
   "metadata": {},
   "outputs": [
    {
     "data": {
      "text/html": [
       "<div><div id=4d72ca00-50bf-4a8c-8fb0-65acd1965369 style=\"display:none; background-color:#9D6CFF; color:white; width:200px; height:30px; padding-left:5px; border-radius:4px; flex-direction:row; justify-content:space-around; align-items:center;\" onmouseover=\"this.style.backgroundColor='#BA9BF8'\" onmouseout=\"this.style.backgroundColor='#9D6CFF'\" onclick=\"window.commands?.execute('create-mitosheet-from-dataframe-output');\">See Full Dataframe in Mito</div> <script> if (window.commands?.hasCommand('create-mitosheet-from-dataframe-output')) document.getElementById('4d72ca00-50bf-4a8c-8fb0-65acd1965369').style.display = 'flex' </script> <table border=\"1\" class=\"dataframe\">\n",
       "  <thead>\n",
       "    <tr style=\"text-align: right;\">\n",
       "      <th></th>\n",
       "      <th>store_address</th>\n",
       "      <th>store_city</th>\n",
       "      <th>store_id</th>\n",
       "      <th>store_state</th>\n",
       "      <th>store_zipcode</th>\n",
       "    </tr>\n",
       "  </thead>\n",
       "  <tbody>\n",
       "    <tr>\n",
       "      <th>0</th>\n",
       "      <td>12125 Alamo Ranch Pkwy</td>\n",
       "      <td>San Antonio</td>\n",
       "      <td>1</td>\n",
       "      <td>TX</td>\n",
       "      <td>78253</td>\n",
       "    </tr>\n",
       "    <tr>\n",
       "      <th>1</th>\n",
       "      <td>9255 FM 471 West</td>\n",
       "      <td>San Antonio</td>\n",
       "      <td>2</td>\n",
       "      <td>TX</td>\n",
       "      <td>78251</td>\n",
       "    </tr>\n",
       "    <tr>\n",
       "      <th>2</th>\n",
       "      <td>2118 Fredericksburg Rdj</td>\n",
       "      <td>San Antonio</td>\n",
       "      <td>3</td>\n",
       "      <td>TX</td>\n",
       "      <td>78201</td>\n",
       "    </tr>\n",
       "  </tbody>\n",
       "</table></div>"
      ],
      "text/plain": [
       "             store_address   store_city  store_id store_state  store_zipcode\n",
       "0   12125 Alamo Ranch Pkwy  San Antonio         1          TX          78253\n",
       "1         9255 FM 471 West  San Antonio         2          TX          78251\n",
       "2  2118 Fredericksburg Rdj  San Antonio         3          TX          78201"
      ]
     },
     "execution_count": 4,
     "metadata": {},
     "output_type": "execute_result"
    }
   ],
   "source": [
    "df = get_stores_df()\n",
    "df.head(3)"
   ]
  },
  {
   "cell_type": "code",
   "execution_count": 5,
   "metadata": {},
   "outputs": [
    {
     "data": {
      "text/html": [
       "<div><div id=537c45fb-0cc4-449e-954c-e1f6ad55fa4c style=\"display:none; background-color:#9D6CFF; color:white; width:200px; height:30px; padding-left:5px; border-radius:4px; flex-direction:row; justify-content:space-around; align-items:center;\" onmouseover=\"this.style.backgroundColor='#BA9BF8'\" onmouseout=\"this.style.backgroundColor='#9D6CFF'\" onclick=\"window.commands?.execute('create-mitosheet-from-dataframe-output');\">See Full Dataframe in Mito</div> <script> if (window.commands?.hasCommand('create-mitosheet-from-dataframe-output')) document.getElementById('537c45fb-0cc4-449e-954c-e1f6ad55fa4c').style.display = 'flex' </script> <table border=\"1\" class=\"dataframe\">\n",
       "  <thead>\n",
       "    <tr style=\"text-align: right;\">\n",
       "      <th></th>\n",
       "      <th>item_brand</th>\n",
       "      <th>item_id</th>\n",
       "      <th>item_name</th>\n",
       "      <th>item_price</th>\n",
       "      <th>item_upc12</th>\n",
       "      <th>item_upc14</th>\n",
       "      <th>item</th>\n",
       "      <th>sale_amount</th>\n",
       "      <th>sale_date</th>\n",
       "      <th>sale_id</th>\n",
       "      <th>store</th>\n",
       "      <th>store_address</th>\n",
       "      <th>store_city</th>\n",
       "      <th>store_id</th>\n",
       "      <th>store_state</th>\n",
       "      <th>store_zipcode</th>\n",
       "    </tr>\n",
       "  </thead>\n",
       "  <tbody>\n",
       "    <tr>\n",
       "      <th>26126</th>\n",
       "      <td>Betty Crocker</td>\n",
       "      <td>22</td>\n",
       "      <td>Betty Crocker Twin Pack Real Potatoes Scalloped 2 Pouches For 2 Meals - 2 Pk</td>\n",
       "      <td>7.31</td>\n",
       "      <td>16000288829</td>\n",
       "      <td>16000288829</td>\n",
       "      <td>22</td>\n",
       "      <td>76.0</td>\n",
       "      <td>Thu, 17 Jul 2014 00:00:00 GMT</td>\n",
       "      <td>391327</td>\n",
       "      <td>5</td>\n",
       "      <td>1520 Austin Hwy</td>\n",
       "      <td>San Antonio</td>\n",
       "      <td>5</td>\n",
       "      <td>TX</td>\n",
       "      <td>78218</td>\n",
       "    </tr>\n",
       "    <tr>\n",
       "      <th>138652</th>\n",
       "      <td>Usda Produce</td>\n",
       "      <td>28</td>\n",
       "      <td>Guava</td>\n",
       "      <td>7.52</td>\n",
       "      <td>719175900007</td>\n",
       "      <td>719175900007</td>\n",
       "      <td>28</td>\n",
       "      <td>80.0</td>\n",
       "      <td>Wed, 30 Aug 2017 00:00:00 GMT</td>\n",
       "      <td>503853</td>\n",
       "      <td>6</td>\n",
       "      <td>1015 S WW White Rd</td>\n",
       "      <td>San Antonio</td>\n",
       "      <td>6</td>\n",
       "      <td>TX</td>\n",
       "      <td>78220</td>\n",
       "    </tr>\n",
       "    <tr>\n",
       "      <th>144573</th>\n",
       "      <td>Usda Produce</td>\n",
       "      <td>28</td>\n",
       "      <td>Guava</td>\n",
       "      <td>7.52</td>\n",
       "      <td>719175900007</td>\n",
       "      <td>719175900007</td>\n",
       "      <td>28</td>\n",
       "      <td>110.0</td>\n",
       "      <td>Sat, 16 Nov 2013 00:00:00 GMT</td>\n",
       "      <td>509774</td>\n",
       "      <td>10</td>\n",
       "      <td>8503 NW Military Hwy</td>\n",
       "      <td>San Antonio</td>\n",
       "      <td>10</td>\n",
       "      <td>TX</td>\n",
       "      <td>78231</td>\n",
       "    </tr>\n",
       "    <tr>\n",
       "      <th>234346</th>\n",
       "      <td>The First Years</td>\n",
       "      <td>33</td>\n",
       "      <td>Tomy The First Years Gumdrop Orthodontic Pacifiers 6m+ - 2ct</td>\n",
       "      <td>6.52</td>\n",
       "      <td>71463060078</td>\n",
       "      <td>71463060078</td>\n",
       "      <td>33</td>\n",
       "      <td>74.0</td>\n",
       "      <td>Thu, 11 Sep 2014 00:00:00 GMT</td>\n",
       "      <td>599547</td>\n",
       "      <td>9</td>\n",
       "      <td>735 SW Military Dr</td>\n",
       "      <td>San Antonio</td>\n",
       "      <td>9</td>\n",
       "      <td>TX</td>\n",
       "      <td>78221</td>\n",
       "    </tr>\n",
       "    <tr>\n",
       "      <th>508467</th>\n",
       "      <td>Dove</td>\n",
       "      <td>48</td>\n",
       "      <td>Dove Men + Care Antiperspirant Deodorant Cool Silver</td>\n",
       "      <td>3.72</td>\n",
       "      <td>79400271631</td>\n",
       "      <td>79400271631</td>\n",
       "      <td>48</td>\n",
       "      <td>49.0</td>\n",
       "      <td>Mon, 20 Apr 2015 00:00:00 GMT</td>\n",
       "      <td>873668</td>\n",
       "      <td>9</td>\n",
       "      <td>735 SW Military Dr</td>\n",
       "      <td>San Antonio</td>\n",
       "      <td>9</td>\n",
       "      <td>TX</td>\n",
       "      <td>78221</td>\n",
       "    </tr>\n",
       "    <tr>\n",
       "      <th>...</th>\n",
       "      <td>...</td>\n",
       "      <td>...</td>\n",
       "      <td>...</td>\n",
       "      <td>...</td>\n",
       "      <td>...</td>\n",
       "      <td>...</td>\n",
       "      <td>...</td>\n",
       "      <td>...</td>\n",
       "      <td>...</td>\n",
       "      <td>...</td>\n",
       "      <td>...</td>\n",
       "      <td>...</td>\n",
       "      <td>...</td>\n",
       "      <td>...</td>\n",
       "      <td>...</td>\n",
       "      <td>...</td>\n",
       "    </tr>\n",
       "    <tr>\n",
       "      <th>177374</th>\n",
       "      <td>Petmate</td>\n",
       "      <td>30</td>\n",
       "      <td>Petmate Booda Bones Steak Bacon &amp; Chicken Flavors - 9 Ct</td>\n",
       "      <td>8.39</td>\n",
       "      <td>723503568678</td>\n",
       "      <td>723503568678</td>\n",
       "      <td>30</td>\n",
       "      <td>42.0</td>\n",
       "      <td>Tue, 10 Sep 2013 00:00:00 GMT</td>\n",
       "      <td>542575</td>\n",
       "      <td>8</td>\n",
       "      <td>15000 San Pedro Ave</td>\n",
       "      <td>San Antonio</td>\n",
       "      <td>8</td>\n",
       "      <td>TX</td>\n",
       "      <td>78232</td>\n",
       "    </tr>\n",
       "    <tr>\n",
       "      <th>469918</th>\n",
       "      <td>Mama Marys</td>\n",
       "      <td>46</td>\n",
       "      <td>Pizza Sauce</td>\n",
       "      <td>4.65</td>\n",
       "      <td>35457770664</td>\n",
       "      <td>35457770664</td>\n",
       "      <td>46</td>\n",
       "      <td>66.0</td>\n",
       "      <td>Mon, 29 Sep 2014 00:00:00 GMT</td>\n",
       "      <td>835119</td>\n",
       "      <td>8</td>\n",
       "      <td>15000 San Pedro Ave</td>\n",
       "      <td>San Antonio</td>\n",
       "      <td>8</td>\n",
       "      <td>TX</td>\n",
       "      <td>78232</td>\n",
       "    </tr>\n",
       "    <tr>\n",
       "      <th>390642</th>\n",
       "      <td>Moms Best Naturals</td>\n",
       "      <td>42</td>\n",
       "      <td>Moms Best Naturals Cereal Toasted Cinnamon Squares</td>\n",
       "      <td>2.97</td>\n",
       "      <td>883978129115</td>\n",
       "      <td>883978129115</td>\n",
       "      <td>42</td>\n",
       "      <td>45.0</td>\n",
       "      <td>Fri, 01 Sep 2017 00:00:00 GMT</td>\n",
       "      <td>755843</td>\n",
       "      <td>4</td>\n",
       "      <td>516 S Flores St</td>\n",
       "      <td>San Antonio</td>\n",
       "      <td>4</td>\n",
       "      <td>TX</td>\n",
       "      <td>78204</td>\n",
       "    </tr>\n",
       "    <tr>\n",
       "      <th>121666</th>\n",
       "      <td>Morton</td>\n",
       "      <td>27</td>\n",
       "      <td>Morton Kosher Salt Coarse</td>\n",
       "      <td>6.01</td>\n",
       "      <td>24600017008</td>\n",
       "      <td>24600017008</td>\n",
       "      <td>27</td>\n",
       "      <td>7.0</td>\n",
       "      <td>Thu, 25 Feb 2016 00:00:00 GMT</td>\n",
       "      <td>486867</td>\n",
       "      <td>7</td>\n",
       "      <td>12018 Perrin Beitel Rd</td>\n",
       "      <td>San Antonio</td>\n",
       "      <td>7</td>\n",
       "      <td>TX</td>\n",
       "      <td>78217</td>\n",
       "    </tr>\n",
       "    <tr>\n",
       "      <th>495800</th>\n",
       "      <td>Dove</td>\n",
       "      <td>48</td>\n",
       "      <td>Dove Men + Care Antiperspirant Deodorant Cool Silver</td>\n",
       "      <td>3.72</td>\n",
       "      <td>79400271631</td>\n",
       "      <td>79400271631</td>\n",
       "      <td>48</td>\n",
       "      <td>90.0</td>\n",
       "      <td>Thu, 13 Aug 2015 00:00:00 GMT</td>\n",
       "      <td>861001</td>\n",
       "      <td>2</td>\n",
       "      <td>9255 FM 471 West</td>\n",
       "      <td>San Antonio</td>\n",
       "      <td>2</td>\n",
       "      <td>TX</td>\n",
       "      <td>78251</td>\n",
       "    </tr>\n",
       "  </tbody>\n",
       "</table></div>"
      ],
      "text/plain": [
       "                item_brand  item_id  \\\n",
       "26126        Betty Crocker       22   \n",
       "138652        Usda Produce       28   \n",
       "144573        Usda Produce       28   \n",
       "234346     The First Years       33   \n",
       "508467                Dove       48   \n",
       "346343            Munchies       39   \n",
       "143276        Usda Produce       28   \n",
       "74197                 Hood       25   \n",
       "239591               Halls       34   \n",
       "42459                Reese       23   \n",
       "432589              Elmers       44   \n",
       "31910        Betty Crocker       22   \n",
       "174046             Petmate       30   \n",
       "531249              Choice       50   \n",
       "406053             Ferrara       43   \n",
       "177374             Petmate       30   \n",
       "469918          Mama Marys       46   \n",
       "390642  Moms Best Naturals       42   \n",
       "121666              Morton       27   \n",
       "495800                Dove       48   \n",
       "\n",
       "                                                item_name  item_price  \\\n",
       "26126   Betty Crocker Twin Pack Real Potatoes Scallope...        7.31   \n",
       "138652                                              Guava        7.52   \n",
       "144573                                              Guava        7.52   \n",
       "234346  Tomy The First Years Gumdrop Orthodontic Pacif...        6.52   \n",
       "508467  Dove Men + Care Antiperspirant Deodorant Cool ...        3.72   \n",
       "346343  Munchies Sandwich Crackers Cheddar Cheese On G...        9.02   \n",
       "143276                                              Guava        7.52   \n",
       "74197          Hood Latte Iced Coffee Drink Vanilla Latte        2.43   \n",
       "239591  Halls Menthol Cough Suppresant/oral Anesthetic...        4.17   \n",
       "42459      Reese Mandarin Oranges Segments In Light Syrup        1.78   \n",
       "432589                Elmers Board Mate Dual Tip Glue Pen        7.06   \n",
       "31910   Betty Crocker Twin Pack Real Potatoes Scallope...        7.31   \n",
       "174046  Petmate Booda Bones Steak Bacon & Chicken Flav...        8.39   \n",
       "531249  Choice Organic Teas Black Tea Classic Black - ...        5.20   \n",
       "406053                              Ferrara Vanilla Syrup        8.40   \n",
       "177374  Petmate Booda Bones Steak Bacon & Chicken Flav...        8.39   \n",
       "469918                                        Pizza Sauce        4.65   \n",
       "390642  Moms Best Naturals Cereal Toasted Cinnamon Squ...        2.97   \n",
       "121666                          Morton Kosher Salt Coarse        6.01   \n",
       "495800  Dove Men + Care Antiperspirant Deodorant Cool ...        3.72   \n",
       "\n",
       "          item_upc12    item_upc14  item  sale_amount  \\\n",
       "26126    16000288829   16000288829    22         76.0   \n",
       "138652  719175900007  719175900007    28         80.0   \n",
       "144573  719175900007  719175900007    28        110.0   \n",
       "234346   71463060078   71463060078    33         74.0   \n",
       "508467   79400271631   79400271631    48         49.0   \n",
       "346343   28400029254   28400029254    39         56.0   \n",
       "143276  719175900007  719175900007    28        108.0   \n",
       "74197    44100117428   44100117428    25         70.0   \n",
       "239591  312546628694  312546628694    34         16.0   \n",
       "42459    70670009658   70670009658    23         26.0   \n",
       "432589   26000001403   26000001403    44         26.0   \n",
       "31910    16000288829   16000288829    22        101.0   \n",
       "174046  723503568678  723503568678    30         33.0   \n",
       "531249   47445919221   47445919221    50         59.0   \n",
       "406053   71403000379   71403000379    43         69.0   \n",
       "177374  723503568678  723503568678    30         42.0   \n",
       "469918   35457770664   35457770664    46         66.0   \n",
       "390642  883978129115  883978129115    42         45.0   \n",
       "121666   24600017008   24600017008    27          7.0   \n",
       "495800   79400271631   79400271631    48         90.0   \n",
       "\n",
       "                            sale_date  sale_id  store  \\\n",
       "26126   Thu, 17 Jul 2014 00:00:00 GMT   391327      5   \n",
       "138652  Wed, 30 Aug 2017 00:00:00 GMT   503853      6   \n",
       "144573  Sat, 16 Nov 2013 00:00:00 GMT   509774     10   \n",
       "234346  Thu, 11 Sep 2014 00:00:00 GMT   599547      9   \n",
       "508467  Mon, 20 Apr 2015 00:00:00 GMT   873668      9   \n",
       "346343  Sat, 14 May 2016 00:00:00 GMT   711544     10   \n",
       "143276  Wed, 29 Apr 2015 00:00:00 GMT   508477      9   \n",
       "74197   Thu, 03 Mar 2016 00:00:00 GMT   439398      1   \n",
       "239591  Tue, 21 Jan 2014 00:00:00 GMT   604792      2   \n",
       "42459   Mon, 07 Apr 2014 00:00:00 GMT   407660      4   \n",
       "432589  Wed, 12 Jul 2017 00:00:00 GMT   797790      7   \n",
       "31910   Tue, 19 May 2015 00:00:00 GMT   397111      8   \n",
       "174046  Thu, 31 Jul 2014 00:00:00 GMT   539247      6   \n",
       "531249  Wed, 06 Sep 2017 00:00:00 GMT   896450      1   \n",
       "406053  Thu, 13 Nov 2014 00:00:00 GMT   771254      3   \n",
       "177374  Tue, 10 Sep 2013 00:00:00 GMT   542575      8   \n",
       "469918  Mon, 29 Sep 2014 00:00:00 GMT   835119      8   \n",
       "390642  Fri, 01 Sep 2017 00:00:00 GMT   755843      4   \n",
       "121666  Thu, 25 Feb 2016 00:00:00 GMT   486867      7   \n",
       "495800  Thu, 13 Aug 2015 00:00:00 GMT   861001      2   \n",
       "\n",
       "                  store_address   store_city  store_id store_state  \\\n",
       "26126           1520 Austin Hwy  San Antonio         5          TX   \n",
       "138652       1015 S WW White Rd  San Antonio         6          TX   \n",
       "144573     8503 NW Military Hwy  San Antonio        10          TX   \n",
       "234346       735 SW Military Dr  San Antonio         9          TX   \n",
       "508467       735 SW Military Dr  San Antonio         9          TX   \n",
       "346343     8503 NW Military Hwy  San Antonio        10          TX   \n",
       "143276       735 SW Military Dr  San Antonio         9          TX   \n",
       "74197    12125 Alamo Ranch Pkwy  San Antonio         1          TX   \n",
       "239591         9255 FM 471 West  San Antonio         2          TX   \n",
       "42459           516 S Flores St  San Antonio         4          TX   \n",
       "432589   12018 Perrin Beitel Rd  San Antonio         7          TX   \n",
       "31910       15000 San Pedro Ave  San Antonio         8          TX   \n",
       "174046       1015 S WW White Rd  San Antonio         6          TX   \n",
       "531249   12125 Alamo Ranch Pkwy  San Antonio         1          TX   \n",
       "406053  2118 Fredericksburg Rdj  San Antonio         3          TX   \n",
       "177374      15000 San Pedro Ave  San Antonio         8          TX   \n",
       "469918      15000 San Pedro Ave  San Antonio         8          TX   \n",
       "390642          516 S Flores St  San Antonio         4          TX   \n",
       "121666   12018 Perrin Beitel Rd  San Antonio         7          TX   \n",
       "495800         9255 FM 471 West  San Antonio         2          TX   \n",
       "\n",
       "        store_zipcode  \n",
       "26126           78218  \n",
       "138652          78220  \n",
       "144573          78231  \n",
       "234346          78221  \n",
       "508467          78221  \n",
       "346343          78231  \n",
       "143276          78221  \n",
       "74197           78253  \n",
       "239591          78251  \n",
       "42459           78204  \n",
       "432589          78217  \n",
       "31910           78232  \n",
       "174046          78220  \n",
       "531249          78253  \n",
       "406053          78201  \n",
       "177374          78232  \n",
       "469918          78232  \n",
       "390642          78204  \n",
       "121666          78217  \n",
       "495800          78251  "
      ]
     },
     "execution_count": 5,
     "metadata": {},
     "output_type": "execute_result"
    }
   ],
   "source": [
    "df = acquire.get_combined_df()\n",
    "df.sample(20)\n"
   ]
  },
  {
   "cell_type": "code",
   "execution_count": 6,
   "metadata": {},
   "outputs": [
    {
     "data": {
      "text/plain": [
       "Index(['item_brand', 'item_id', 'item_name', 'item_price', 'item_upc12',\n",
       "       'item_upc14', 'item', 'sale_amount', 'sale_date', 'sale_id', 'store',\n",
       "       'store_address', 'store_city', 'store_id', 'store_state',\n",
       "       'store_zipcode'],\n",
       "      dtype='object')"
      ]
     },
     "execution_count": 6,
     "metadata": {},
     "output_type": "execute_result"
    }
   ],
   "source": [
    "df.columns"
   ]
  },
  {
   "cell_type": "code",
   "execution_count": 7,
   "metadata": {},
   "outputs": [
    {
     "data": {
      "text/plain": [
       "547800"
      ]
     },
     "execution_count": 7,
     "metadata": {},
     "output_type": "execute_result"
    }
   ],
   "source": [
    "df.shape[0]"
   ]
  },
  {
   "cell_type": "code",
   "execution_count": 8,
   "metadata": {},
   "outputs": [
    {
     "data": {
      "text/plain": [
       "item_brand       0\n",
       "item_id          0\n",
       "item_name        0\n",
       "item_price       0\n",
       "item_upc12       0\n",
       "item_upc14       0\n",
       "item             0\n",
       "sale_amount      0\n",
       "sale_date        0\n",
       "sale_id          0\n",
       "store            0\n",
       "store_address    0\n",
       "store_city       0\n",
       "store_id         0\n",
       "store_state      0\n",
       "store_zipcode    0\n",
       "dtype: int64"
      ]
     },
     "execution_count": 8,
     "metadata": {},
     "output_type": "execute_result"
    }
   ],
   "source": [
    "df.isnull().sum()"
   ]
  },
  {
   "cell_type": "code",
   "execution_count": 9,
   "metadata": {},
   "outputs": [
    {
     "data": {
      "text/plain": [
       "array([ 1,  2,  3,  4,  5,  6,  7,  8,  9, 10])"
      ]
     },
     "execution_count": 9,
     "metadata": {},
     "output_type": "execute_result"
    }
   ],
   "source": [
    "df.store_id.unique()"
   ]
  },
  {
   "cell_type": "code",
   "execution_count": 10,
   "metadata": {},
   "outputs": [
    {
     "data": {
      "text/plain": [
       "array([21, 22, 23, 24, 25, 26, 27, 28, 29, 30, 31, 32, 33, 34, 35, 36, 37,\n",
       "       38, 39, 40, 41, 42, 43, 44, 45, 46, 47, 48, 49, 50])"
      ]
     },
     "execution_count": 10,
     "metadata": {},
     "output_type": "execute_result"
    }
   ],
   "source": [
    "df.item.unique()"
   ]
  },
  {
   "cell_type": "code",
   "execution_count": 11,
   "metadata": {},
   "outputs": [
    {
     "data": {
      "text/plain": [
       "array(['Tue, 01 Jan 2013 00:00:00 GMT', 'Wed, 02 Jan 2013 00:00:00 GMT',\n",
       "       'Thu, 03 Jan 2013 00:00:00 GMT', ...,\n",
       "       'Fri, 29 Dec 2017 00:00:00 GMT', 'Sat, 30 Dec 2017 00:00:00 GMT',\n",
       "       'Sun, 31 Dec 2017 00:00:00 GMT'], dtype=object)"
      ]
     },
     "execution_count": 11,
     "metadata": {},
     "output_type": "execute_result"
    }
   ],
   "source": [
    "df.sale_date.unique()"
   ]
  },
  {
   "cell_type": "code",
   "execution_count": 14,
   "metadata": {},
   "outputs": [
    {
     "data": {
      "text/plain": [
       "Index(['01-01-2013', '01-01-2013', '01-01-2013', '01-01-2013', '01-01-2013',\n",
       "       '01-01-2013', '01-01-2013', '01-01-2013', '01-01-2013', '01-01-2013',\n",
       "       ...\n",
       "       '31-12-2017', '31-12-2017', '31-12-2017', '31-12-2017', '31-12-2017',\n",
       "       '31-12-2017', '31-12-2017', '31-12-2017', '31-12-2017', '31-12-2017'],\n",
       "      dtype='object', name='sale_date', length=547800)"
      ]
     },
     "execution_count": 14,
     "metadata": {},
     "output_type": "execute_result"
    }
   ],
   "source": [
    "## Set datetime index\n",
    "## reassign the sale_date column to be a datetime type\n",
    "df.sale_date = pd.to_datetime(df.sale_date)\n",
    "## set the index as that date and then sort index (by the date)\n",
    "df = df.set_index('sale_date').sort_index()\n",
    "df.index.strftime('%d-%m-%Y')"
   ]
  },
  {
   "cell_type": "code",
   "execution_count": null,
   "metadata": {},
   "outputs": [],
   "source": [
    "df = df.drop(columns='item')\n",
    "df.head()"
   ]
  },
  {
   "cell_type": "code",
   "execution_count": null,
   "metadata": {},
   "outputs": [],
   "source": [
    "df.shape[0]"
   ]
  },
  {
   "cell_type": "markdown",
   "metadata": {},
   "source": [
    "## Refresher notes on data prep with time series:\n",
    "- look for gaps in the data\n",
    "- set date-tme index\n",
    "- look at just one variable changing over time\n",
    "- this is univariate analysis\n",
    "- look for null values"
   ]
  },
  {
   "cell_type": "markdown",
   "metadata": {},
   "source": [
    "## Exercises"
   ]
  },
  {
   "cell_type": "code",
   "execution_count": null,
   "metadata": {},
   "outputs": [],
   "source": [
    "# 2. Plot the distribution of sale_amount and item_price.\n",
    "\n",
    "by_date_sales = df.groupby(['sale_date']).sale_amount.sum().reset_index()\n",
    "by_date_sales.plot(x='sale_date', y='sale_amount')"
   ]
  },
  {
   "cell_type": "code",
   "execution_count": null,
   "metadata": {},
   "outputs": [],
   "source": [
    "df.sale_amount.hist()"
   ]
  },
  {
   "cell_type": "code",
   "execution_count": null,
   "metadata": {},
   "outputs": [],
   "source": [
    "df.item_price.hist()"
   ]
  },
  {
   "cell_type": "code",
   "execution_count": null,
   "metadata": {},
   "outputs": [],
   "source": [
    "by_date_price = df.groupby(['sale_date']).item_price.sum().reset_index()\n",
    "by_date_price.plot(x='sale_date', y='item_price')"
   ]
  },
  {
   "cell_type": "code",
   "execution_count": null,
   "metadata": {},
   "outputs": [],
   "source": [
    "# observations per store = item transactions per store\n",
    "# is each store equaly represented? >> check store ids\n",
    "df.store_id.value_counts()"
   ]
  },
  {
   "cell_type": "code",
   "execution_count": null,
   "metadata": {},
   "outputs": [],
   "source": [
    "# is each item equally represented? >> check item_ids\n",
    "df.item_id.value_counts().sort_index()"
   ]
  },
  {
   "cell_type": "code",
   "execution_count": null,
   "metadata": {},
   "outputs": [],
   "source": [
    "# finding the first sale\n",
    "first_sale = df.reset_index().groupby(['store_id', 'item_id']).sale_date.min()\n",
    "first_sale.head()"
   ]
  },
  {
   "cell_type": "code",
   "execution_count": null,
   "metadata": {},
   "outputs": [],
   "source": [
    "# unique item first sales:\n",
    "first_sale.unique()"
   ]
  },
  {
   "cell_type": "code",
   "execution_count": null,
   "metadata": {},
   "outputs": [],
   "source": [
    "# get the last sale\n",
    "last_sale = df.reset_index().groupby(['store_id', 'item_id']).sale_date.max()\n",
    "last_sale.head()"
   ]
  },
  {
   "cell_type": "code",
   "execution_count": null,
   "metadata": {},
   "outputs": [],
   "source": [
    "last_sale.unique()"
   ]
  },
  {
   "cell_type": "code",
   "execution_count": null,
   "metadata": {},
   "outputs": [],
   "source": [
    "# how many different days was each item sold at each store:\n",
    "days_per_store_per_item = df.reset_index().groupby(['store_id', 'item_id']).sale_date.nunique()\n",
    "days_per_store_per_item.head()"
   ]
  },
  {
   "cell_type": "code",
   "execution_count": null,
   "metadata": {},
   "outputs": [],
   "source": [
    "days_per_store_per_item.unique()"
   ]
  },
  {
   "cell_type": "code",
   "execution_count": null,
   "metadata": {},
   "outputs": [],
   "source": [
    "# Check for gaps in the data:\n",
    "print(\"The number of rows is\", df.index.nunique())\n",
    "n_days = df.index.max() - df.index.min() + pd.Timedelta('1d')\n",
    "print(\"Number of days between first and last day is \", n_days)"
   ]
  },
  {
   "cell_type": "code",
   "execution_count": null,
   "metadata": {},
   "outputs": [],
   "source": [
    "# 3. Set the index to be the datetime variable.\n",
    "\n",
    "df.head()"
   ]
  },
  {
   "cell_type": "code",
   "execution_count": null,
   "metadata": {},
   "outputs": [],
   "source": [
    "# 4. Add a 'month' and 'day of week' column to your dataframe.\n",
    "# 5. Add a column to your dataframe, sales_total, which is a derived from sale_amount \n",
    "# (total items) and item_price.\n",
    "df['month'] = df.index.strftime('%b')\n",
    "df['weekday'] = df.index.strftime('%a')\n",
    "df['sales_total'] = df.sale_amount * df.item_price\n",
    "df.head()"
   ]
  },
  {
   "cell_type": "code",
   "execution_count": 23,
   "metadata": {},
   "outputs": [],
   "source": [
    "# 6. Make sure all the work that you have done above is reproducible. That is, you should put the code above into separate functions \n",
    "# and be able to re-run the functions and get the same results.\n",
    "\n",
    "import pandas as pd\n",
    "import acquire\n",
    "import os\n",
    "import requests\n",
    "\n",
    "def prepare_stores():\n",
    "    df = acquire.get_combined_df()\n",
    "    # set the DTG column\n",
    "    df.sale_date = pd.to_datetime(df.sale_date)\n",
    "    # set the DTG columns as index, and sort by index\n",
    "    df = df.set_index('sale_date').sort_index()\n",
    "    # print check statements for df shape, and item sales dates\n",
    "    print(\"The number of unique days is\", df.index.nunique())\n",
    "    n_days = df.index.max() - df.index.min() + pd.Timedelta('1d')\n",
    "    print(\"Number of days between first and last day is \", n_days)\n",
    "    df['month'] = df.index.strftime('%b')\n",
    "    df['weekday'] = df.index.strftime('%a')\n",
    "    df['sales_total'] = df.sale_amount * df.item_price\n",
    "    df = df.drop(columns=['store_id', 'item'])\n",
    "    return df"
   ]
  },
  {
   "cell_type": "code",
   "execution_count": 24,
   "metadata": {},
   "outputs": [
    {
     "name": "stdout",
     "output_type": "stream",
     "text": [
      "The number of rows is 1826\n",
      "Number of days between first and last day is  1826 days 00:00:00\n"
     ]
    },
    {
     "data": {
      "text/html": [
       "<div><div id=8f0e6309-6ffc-48fb-b0bd-295ed02b3cb4 style=\"display:none; background-color:#9D6CFF; color:white; width:200px; height:30px; padding-left:5px; border-radius:4px; flex-direction:row; justify-content:space-around; align-items:center;\" onmouseover=\"this.style.backgroundColor='#BA9BF8'\" onmouseout=\"this.style.backgroundColor='#9D6CFF'\" onclick=\"window.commands?.execute('create-mitosheet-from-dataframe-output');\">See Full Dataframe in Mito</div> <script> if (window.commands?.hasCommand('create-mitosheet-from-dataframe-output')) document.getElementById('8f0e6309-6ffc-48fb-b0bd-295ed02b3cb4').style.display = 'flex' </script> <table border=\"1\" class=\"dataframe\">\n",
       "  <thead>\n",
       "    <tr style=\"text-align: right;\">\n",
       "      <th></th>\n",
       "      <th>item_brand</th>\n",
       "      <th>item_id</th>\n",
       "      <th>item_name</th>\n",
       "      <th>item_price</th>\n",
       "      <th>item_upc12</th>\n",
       "      <th>item_upc14</th>\n",
       "      <th>sale_amount</th>\n",
       "      <th>sale_id</th>\n",
       "      <th>store</th>\n",
       "      <th>store_address</th>\n",
       "      <th>store_city</th>\n",
       "      <th>store_state</th>\n",
       "      <th>store_zipcode</th>\n",
       "      <th>month</th>\n",
       "      <th>weekday</th>\n",
       "      <th>sales_total</th>\n",
       "    </tr>\n",
       "    <tr>\n",
       "      <th>sale_date</th>\n",
       "      <th></th>\n",
       "      <th></th>\n",
       "      <th></th>\n",
       "      <th></th>\n",
       "      <th></th>\n",
       "      <th></th>\n",
       "      <th></th>\n",
       "      <th></th>\n",
       "      <th></th>\n",
       "      <th></th>\n",
       "      <th></th>\n",
       "      <th></th>\n",
       "      <th></th>\n",
       "      <th></th>\n",
       "      <th></th>\n",
       "      <th></th>\n",
       "    </tr>\n",
       "  </thead>\n",
       "  <tbody>\n",
       "    <tr>\n",
       "      <th>2013-01-01 00:00:00+00:00</th>\n",
       "      <td>Doctors Best</td>\n",
       "      <td>21</td>\n",
       "      <td>Doctors Best Best Curcumin C3 Complex 1000mg Tablets - 120 Ct</td>\n",
       "      <td>8.09</td>\n",
       "      <td>753950001954</td>\n",
       "      <td>753950001954</td>\n",
       "      <td>22.0</td>\n",
       "      <td>365201</td>\n",
       "      <td>1</td>\n",
       "      <td>12125 Alamo Ranch Pkwy</td>\n",
       "      <td>San Antonio</td>\n",
       "      <td>TX</td>\n",
       "      <td>78253</td>\n",
       "      <td>Jan</td>\n",
       "      <td>Tue</td>\n",
       "      <td>177.98</td>\n",
       "    </tr>\n",
       "    <tr>\n",
       "      <th>2013-01-01 00:00:00+00:00</th>\n",
       "      <td>Hood</td>\n",
       "      <td>25</td>\n",
       "      <td>Hood Latte Iced Coffee Drink Vanilla Latte</td>\n",
       "      <td>2.43</td>\n",
       "      <td>44100117428</td>\n",
       "      <td>44100117428</td>\n",
       "      <td>45.0</td>\n",
       "      <td>452849</td>\n",
       "      <td>9</td>\n",
       "      <td>735 SW Military Dr</td>\n",
       "      <td>San Antonio</td>\n",
       "      <td>TX</td>\n",
       "      <td>78221</td>\n",
       "      <td>Jan</td>\n",
       "      <td>Tue</td>\n",
       "      <td>109.35</td>\n",
       "    </tr>\n",
       "    <tr>\n",
       "      <th>2013-01-01 00:00:00+00:00</th>\n",
       "      <td>Deerfields Gluten Free</td>\n",
       "      <td>36</td>\n",
       "      <td>Rice Bran Gluten Free Dinner Rolls Plain</td>\n",
       "      <td>7.95</td>\n",
       "      <td>610358991525</td>\n",
       "      <td>610358991525</td>\n",
       "      <td>55.0</td>\n",
       "      <td>655535</td>\n",
       "      <td>10</td>\n",
       "      <td>8503 NW Military Hwy</td>\n",
       "      <td>San Antonio</td>\n",
       "      <td>TX</td>\n",
       "      <td>78231</td>\n",
       "      <td>Jan</td>\n",
       "      <td>Tue</td>\n",
       "      <td>437.25</td>\n",
       "    </tr>\n",
       "    <tr>\n",
       "      <th>2013-01-01 00:00:00+00:00</th>\n",
       "      <td>Dove</td>\n",
       "      <td>48</td>\n",
       "      <td>Dove Men + Care Antiperspirant Deodorant Cool Silver</td>\n",
       "      <td>3.72</td>\n",
       "      <td>79400271631</td>\n",
       "      <td>79400271631</td>\n",
       "      <td>45.0</td>\n",
       "      <td>860047</td>\n",
       "      <td>2</td>\n",
       "      <td>9255 FM 471 West</td>\n",
       "      <td>San Antonio</td>\n",
       "      <td>TX</td>\n",
       "      <td>78251</td>\n",
       "      <td>Jan</td>\n",
       "      <td>Tue</td>\n",
       "      <td>167.40</td>\n",
       "    </tr>\n",
       "    <tr>\n",
       "      <th>2013-01-01 00:00:00+00:00</th>\n",
       "      <td>Triaminic</td>\n",
       "      <td>26</td>\n",
       "      <td>Triaminic Syrup Night Time Cold &amp; Cough Grape 4oz</td>\n",
       "      <td>0.98</td>\n",
       "      <td>300436344045</td>\n",
       "      <td>300436344045</td>\n",
       "      <td>19.0</td>\n",
       "      <td>463805</td>\n",
       "      <td>5</td>\n",
       "      <td>1520 Austin Hwy</td>\n",
       "      <td>San Antonio</td>\n",
       "      <td>TX</td>\n",
       "      <td>78218</td>\n",
       "      <td>Jan</td>\n",
       "      <td>Tue</td>\n",
       "      <td>18.62</td>\n",
       "    </tr>\n",
       "  </tbody>\n",
       "</table></div>"
      ],
      "text/plain": [
       "                                       item_brand  item_id  \\\n",
       "sale_date                                                    \n",
       "2013-01-01 00:00:00+00:00            Doctors Best       21   \n",
       "2013-01-01 00:00:00+00:00                    Hood       25   \n",
       "2013-01-01 00:00:00+00:00  Deerfields Gluten Free       36   \n",
       "2013-01-01 00:00:00+00:00                    Dove       48   \n",
       "2013-01-01 00:00:00+00:00               Triaminic       26   \n",
       "\n",
       "                                                                   item_name  \\\n",
       "sale_date                                                                      \n",
       "2013-01-01 00:00:00+00:00  Doctors Best Best Curcumin C3 Complex 1000mg T...   \n",
       "2013-01-01 00:00:00+00:00         Hood Latte Iced Coffee Drink Vanilla Latte   \n",
       "2013-01-01 00:00:00+00:00           Rice Bran Gluten Free Dinner Rolls Plain   \n",
       "2013-01-01 00:00:00+00:00  Dove Men + Care Antiperspirant Deodorant Cool ...   \n",
       "2013-01-01 00:00:00+00:00  Triaminic Syrup Night Time Cold & Cough Grape 4oz   \n",
       "\n",
       "                           item_price    item_upc12    item_upc14  \\\n",
       "sale_date                                                           \n",
       "2013-01-01 00:00:00+00:00        8.09  753950001954  753950001954   \n",
       "2013-01-01 00:00:00+00:00        2.43   44100117428   44100117428   \n",
       "2013-01-01 00:00:00+00:00        7.95  610358991525  610358991525   \n",
       "2013-01-01 00:00:00+00:00        3.72   79400271631   79400271631   \n",
       "2013-01-01 00:00:00+00:00        0.98  300436344045  300436344045   \n",
       "\n",
       "                           sale_amount  sale_id  store  \\\n",
       "sale_date                                                \n",
       "2013-01-01 00:00:00+00:00         22.0   365201      1   \n",
       "2013-01-01 00:00:00+00:00         45.0   452849      9   \n",
       "2013-01-01 00:00:00+00:00         55.0   655535     10   \n",
       "2013-01-01 00:00:00+00:00         45.0   860047      2   \n",
       "2013-01-01 00:00:00+00:00         19.0   463805      5   \n",
       "\n",
       "                                    store_address   store_city store_state  \\\n",
       "sale_date                                                                    \n",
       "2013-01-01 00:00:00+00:00  12125 Alamo Ranch Pkwy  San Antonio          TX   \n",
       "2013-01-01 00:00:00+00:00      735 SW Military Dr  San Antonio          TX   \n",
       "2013-01-01 00:00:00+00:00    8503 NW Military Hwy  San Antonio          TX   \n",
       "2013-01-01 00:00:00+00:00        9255 FM 471 West  San Antonio          TX   \n",
       "2013-01-01 00:00:00+00:00         1520 Austin Hwy  San Antonio          TX   \n",
       "\n",
       "                           store_zipcode month weekday  sales_total  \n",
       "sale_date                                                            \n",
       "2013-01-01 00:00:00+00:00          78253   Jan     Tue       177.98  \n",
       "2013-01-01 00:00:00+00:00          78221   Jan     Tue       109.35  \n",
       "2013-01-01 00:00:00+00:00          78231   Jan     Tue       437.25  \n",
       "2013-01-01 00:00:00+00:00          78251   Jan     Tue       167.40  \n",
       "2013-01-01 00:00:00+00:00          78218   Jan     Tue        18.62  "
      ]
     },
     "execution_count": 24,
     "metadata": {},
     "output_type": "execute_result"
    }
   ],
   "source": [
    "df = prepare_stores()\n",
    "df.head()"
   ]
  },
  {
   "cell_type": "code",
   "execution_count": null,
   "metadata": {},
   "outputs": [],
   "source": []
  }
 ],
 "metadata": {
  "kernelspec": {
   "display_name": "Python 3.9.7 ('base')",
   "language": "python",
   "name": "python3"
  },
  "language_info": {
   "codemirror_mode": {
    "name": "ipython",
    "version": 3
   },
   "file_extension": ".py",
   "mimetype": "text/x-python",
   "name": "python",
   "nbconvert_exporter": "python",
   "pygments_lexer": "ipython3",
   "version": "3.9.7"
  },
  "orig_nbformat": 4,
  "vscode": {
   "interpreter": {
    "hash": "38cca0c38332a56087b24af0bc80247f4fced29cb4f7f437d91dc159adec9c4e"
   }
  }
 },
 "nbformat": 4,
 "nbformat_minor": 2
}
